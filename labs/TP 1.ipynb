{
 "cells": [
  {
   "cell_type": "code",
   "execution_count": 5,
   "metadata": {},
   "outputs": [],
   "source": [
    "import re\n",
    "from nltk.book import *\n",
    "from nltk import word_tokenize as tokenize"
   ]
  },
  {
   "cell_type": "code",
   "execution_count": 3,
   "metadata": {},
   "outputs": [],
   "source": [
    "mobytext = text1\n",
    "walltext = text7"
   ]
  },
  {
   "cell_type": "code",
   "execution_count": 11,
   "metadata": {},
   "outputs": [
    {
     "name": "stdout",
     "output_type": "stream",
     "text": [
      "Tokens: 218621\n",
      "Types: 17140\n",
      "Diversity: 0.07840051962071347\n"
     ]
    }
   ],
   "source": [
    "# Moby dick stats\n",
    "mobylower = (x.lower() for x in mobytext.tokens)\n",
    "mobytokens = re.findall(r'\\w+', ' '.join(mobylower))\n",
    "mobytokens_len = len(mobytokens)\n",
    "print(f'Tokens: {mobytokens_len}')\n",
    "mobytypes_len = len(set(mobytokens))\n",
    "print(f'Types: {mobytypes_len}')\n",
    "diversity = mobytypes_len / mobytokens_len\n",
    "print(f'Diversity: {diversity}')"
   ]
  },
  {
   "cell_type": "code",
   "execution_count": 12,
   "metadata": {},
   "outputs": [
    {
     "name": "stdout",
     "output_type": "stream",
     "text": [
      "Tokens: 92453\n",
      "Types: 9915\n",
      "Diversity: 0.1072436805728316\n"
     ]
    }
   ],
   "source": [
    "# Wall street journal stats\n",
    "walllower = (x.lower() for x in walltext.tokens)\n",
    "walltokens = re.findall(r'\\w+', ' '.join(walllower))\n",
    "walltokens_len = len(walltokens)\n",
    "print(f'Tokens: {walltokens_len}')\n",
    "walltypes_len = len(set(walltokens))\n",
    "print(f'Types: {walltypes_len}')\n",
    "diversity = walltypes_len / walltokens_len\n",
    "print(f'Diversity: {diversity}')"
   ]
  },
  {
   "cell_type": "code",
   "execution_count": null,
   "metadata": {},
   "outputs": [],
   "source": [
    "# 5 y 6: Wall street journal tiene más diversidad léxica. Es lógico pues abarca temas más diversos.\n",
    "# La historia repite personajes, escenarios, etc.\n",
    "\n"
   ]
  },
  {
   "cell_type": "code",
   "execution_count": 16,
   "metadata": {},
   "outputs": [
    {
     "name": "stdout",
     "output_type": "stream",
     "text": [
      "Whale probability on moby dick: 0.005607878474620462\n",
      "Whale probability on WSJ: 0.0\n"
     ]
    }
   ],
   "source": [
    "# Asumiendo MLE con unigrama.\n",
    "# word_occurrences / word_total\n",
    "whales_on_moby = sum(1 for x in mobytokens if x == 'whale')\n",
    "# P(whale/text)\n",
    "whale_prob = whales_on_moby / mobytokens_len\n",
    "print(f'Whale probability on moby dick: {whale_prob}')\n",
    "# Whale occurrences on wall street journal text\n",
    "whale_on_wall = sum(x for x in walltokens if x == 'whale')\n",
    "whale_prob = whale_on_wall / walltokens_len\n",
    "print(f'Whale probability on WSJ: {whale_prob}')"
   ]
  }
 ],
 "metadata": {
  "kernelspec": {
   "display_name": "Python 3",
   "language": "python",
   "name": "python3"
  },
  "language_info": {
   "codemirror_mode": {
    "name": "ipython",
    "version": 3
   },
   "file_extension": ".py",
   "mimetype": "text/x-python",
   "name": "python",
   "nbconvert_exporter": "python",
   "pygments_lexer": "ipython3",
   "version": "3.6.8"
  }
 },
 "nbformat": 4,
 "nbformat_minor": 2
}
