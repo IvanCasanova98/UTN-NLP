{
 "cells": [
  {
   "cell_type": "code",
   "execution_count": 1,
   "metadata": {},
   "outputs": [],
   "source": [
    "import nltk\n",
    "# nltk.download() # Download book"
   ]
  },
  {
   "cell_type": "code",
   "execution_count": 2,
   "metadata": {},
   "outputs": [
    {
     "name": "stdout",
     "output_type": "stream",
     "text": [
      "*** Introductory Examples for the NLTK Book ***\n",
      "Loading text1, ..., text9 and sent1, ..., sent9\n",
      "Type the name of the text or sentence to view it.\n",
      "Type: 'texts()' or 'sents()' to list the materials.\n",
      "text1: Moby Dick by Herman Melville 1851\n",
      "text2: Sense and Sensibility by Jane Austen 1811\n",
      "text3: The Book of Genesis\n",
      "text4: Inaugural Address Corpus\n",
      "text5: Chat Corpus\n",
      "text6: Monty Python and the Holy Grail\n",
      "text7: Wall Street Journal\n",
      "text8: Personals Corpus\n",
      "text9: The Man Who Was Thursday by G . K . Chesterton 1908\n"
     ]
    }
   ],
   "source": [
    "from nltk.book import *"
   ]
  },
  {
   "cell_type": "code",
   "execution_count": 3,
   "metadata": {},
   "outputs": [],
   "source": [
    "from nltk.corpus import wordnet as wn"
   ]
  },
  {
   "cell_type": "code",
   "execution_count": 4,
   "metadata": {},
   "outputs": [
    {
     "data": {
      "text/plain": [
       "[Synset('chase.v.01')]"
      ]
     },
     "execution_count": 4,
     "metadata": {},
     "output_type": "execute_result"
    }
   ],
   "source": [
    "wn.synsets('dog')\n",
    "\"\"\"\n",
    "# word, type, freq\n",
    "[Synset('dog.n.01'),\n",
    " Synset('frump.n.01'),\n",
    " Synset('dog.n.03'),\n",
    " Synset('cad.n.01'),\n",
    " Synset('frank.n.02'),\n",
    " Synset('pawl.n.01'),\n",
    " Synset('andiron.n.01'),\n",
    " Synset('chase.v.01')]\n",
    "\"\"\"\n",
    "wn.synsets('dog', pos=wn.VERB)"
   ]
  },
  {
   "cell_type": "code",
   "execution_count": 5,
   "metadata": {},
   "outputs": [
    {
     "data": {
      "text/plain": [
       "Synset('frump.n.01')"
      ]
     },
     "execution_count": 5,
     "metadata": {},
     "output_type": "execute_result"
    }
   ],
   "source": [
    "wn.synset('dog.n.02')"
   ]
  },
  {
   "cell_type": "code",
   "execution_count": 6,
   "metadata": {},
   "outputs": [
    {
     "data": {
      "text/plain": [
       "('a member of the genus Canis (probably descended from the common wolf) that has been domesticated by man since prehistoric times; occurs in many breeds',\n",
       " 'a dull unattractive unpleasant girl or woman',\n",
       " 'a dull unattractive unpleasant girl or woman')"
      ]
     },
     "execution_count": 6,
     "metadata": {},
     "output_type": "execute_result"
    }
   ],
   "source": [
    "wn.synset('dog.n.01').definition(), \\\n",
    "wn.synset('dog.n.02').definition(),\\\n",
    "wn.synset('frump.n.01').definition()"
   ]
  },
  {
   "cell_type": "code",
   "execution_count": 7,
   "metadata": {},
   "outputs": [
    {
     "data": {
      "text/plain": [
       "([Lemma('dog.n.01.dog'),\n",
       "  Lemma('dog.n.01.domestic_dog'),\n",
       "  Lemma('dog.n.01.Canis_familiaris')],\n",
       " [Lemma('frump.n.01.frump'), Lemma('frump.n.01.dog')])"
      ]
     },
     "execution_count": 7,
     "metadata": {},
     "output_type": "execute_result"
    }
   ],
   "source": [
    "wn.synset('dog.n.01').lemmas(),\\\n",
    "wn.synset('dog.n.02').lemmas(),\\"
   ]
  },
  {
   "cell_type": "code",
   "execution_count": 8,
   "metadata": {},
   "outputs": [
    {
     "data": {
      "text/plain": [
       "(['she got a reputation as a frump', \"she's a real dog\"],\n",
       " ['she got a reputation as a frump', \"she's a real dog\"])"
      ]
     },
     "execution_count": 8,
     "metadata": {},
     "output_type": "execute_result"
    }
   ],
   "source": [
    "wn.synset('dog.n.02').examples(),\\\n",
    "wn.synset('frump.n.01').examples()"
   ]
  },
  {
   "cell_type": "code",
   "execution_count": 9,
   "metadata": {},
   "outputs": [
    {
     "data": {
      "text/plain": [
       "([Synset('canine.n.02'), Synset('domestic_animal.n.01')],\n",
       " [Synset('basenji.n.01'),\n",
       "  Synset('corgi.n.01'),\n",
       "  Synset('cur.n.01'),\n",
       "  Synset('dalmatian.n.02'),\n",
       "  Synset('great_pyrenees.n.01'),\n",
       "  Synset('griffon.n.02'),\n",
       "  Synset('hunting_dog.n.01'),\n",
       "  Synset('lapdog.n.01'),\n",
       "  Synset('leonberg.n.01'),\n",
       "  Synset('mexican_hairless.n.01'),\n",
       "  Synset('newfoundland.n.01'),\n",
       "  Synset('pooch.n.01'),\n",
       "  Synset('poodle.n.01'),\n",
       "  Synset('pug.n.01'),\n",
       "  Synset('puppy.n.01'),\n",
       "  Synset('spitz.n.01'),\n",
       "  Synset('toy_dog.n.01'),\n",
       "  Synset('working_dog.n.01')])"
      ]
     },
     "execution_count": 9,
     "metadata": {},
     "output_type": "execute_result"
    }
   ],
   "source": [
    "dog = wn.synset('dog.n.01')\n",
    "dog.hypernyms(), dog.hyponyms()"
   ]
  },
  {
   "cell_type": "code",
   "execution_count": 10,
   "metadata": {},
   "outputs": [
    {
     "data": {
      "text/plain": [
       "[Lemma('good.a.01.good')]"
      ]
     },
     "execution_count": 10,
     "metadata": {},
     "output_type": "execute_result"
    }
   ],
   "source": [
    "good = wn.synset('good.a.01')\n",
    "good.lemmas()"
   ]
  },
  {
   "cell_type": "code",
   "execution_count": 15,
   "metadata": {},
   "outputs": [
    {
     "data": {
      "text/plain": [
       "([Lemma('bad.a.01.bad')], Lemma('bad.a.01.bad'))"
      ]
     },
     "execution_count": 15,
     "metadata": {},
     "output_type": "execute_result"
    }
   ],
   "source": [
    "antonyms = good.lemmas()[0].antonyms()\n",
    "antonyms"
   ]
  },
  {
   "cell_type": "code",
   "execution_count": 18,
   "metadata": {},
   "outputs": [
    {
     "data": {
      "text/plain": [
       "([Synset('flag.n.07')], [])"
      ]
     },
     "execution_count": 18,
     "metadata": {},
     "output_type": "execute_result"
    }
   ],
   "source": [
    "dog.part_meronyms(), dog.member_meronyms()"
   ]
  },
  {
   "cell_type": "code",
   "execution_count": 25,
   "metadata": {},
   "outputs": [
    {
     "data": {
      "text/plain": [
       "([], [])"
      ]
     },
     "execution_count": 25,
     "metadata": {},
     "output_type": "execute_result"
    }
   ],
   "source": [
    "pack = wn.synset('pack.n.01')\n",
    "pack.part_holonyms(), pack.member_holonyms()"
   ]
  },
  {
   "cell_type": "code",
   "execution_count": 23,
   "metadata": {},
   "outputs": [
    {
     "data": {
      "text/plain": [
       "([], [Synset('canis.n.01'), Synset('pack.n.06')])"
      ]
     },
     "execution_count": 23,
     "metadata": {},
     "output_type": "execute_result"
    }
   ],
   "source": [
    "dog.part_holonyms(), dog.member_holonyms()"
   ]
  },
  {
   "cell_type": "code",
   "execution_count": 28,
   "metadata": {},
   "outputs": [
    {
     "data": {
      "text/plain": [
       "('a conspicuously marked or shaped tail',\n",
       " 'a group of hunting animals',\n",
       " 'type genus of the Canidae: domestic and wild dogs; wolves; jackals')"
      ]
     },
     "execution_count": 28,
     "metadata": {},
     "output_type": "execute_result"
    }
   ],
   "source": [
    "flag = wn.synset('flag.n.07')\n",
    "pack = wn.synset('pack.n.06')\n",
    "can = wn.synset('canis.n.01')\n",
    "flag.definition(), pack.definition(), can.definition()"
   ]
  },
  {
   "cell_type": "code",
   "execution_count": null,
   "metadata": {},
   "outputs": [],
   "source": [
    "# Deambiguation"
   ]
  },
  {
   "cell_type": "code",
   "execution_count": 32,
   "metadata": {},
   "outputs": [
    {
     "data": {
      "text/plain": [
       "(10,\n",
       " [Synset('bank.n.01'),\n",
       "  Synset('depository_financial_institution.n.01'),\n",
       "  Synset('bank.n.03'),\n",
       "  Synset('bank.n.04'),\n",
       "  Synset('bank.n.05'),\n",
       "  Synset('bank.n.06'),\n",
       "  Synset('bank.n.07'),\n",
       "  Synset('savings_bank.n.02'),\n",
       "  Synset('bank.n.09'),\n",
       "  Synset('bank.n.10')])"
      ]
     },
     "execution_count": 32,
     "metadata": {},
     "output_type": "execute_result"
    }
   ],
   "source": [
    "bank = wn.synsets('bank', pos=wn.NOUN)\n",
    "len(bank), bank"
   ]
  },
  {
   "cell_type": "code",
   "execution_count": 33,
   "metadata": {},
   "outputs": [
    {
     "data": {
      "text/plain": [
       "['sloping land (especially the slope beside a body of water)',\n",
       " 'a financial institution that accepts deposits and channels the money into lending activities',\n",
       " 'a long ridge or pile',\n",
       " 'an arrangement of similar objects in a row or in tiers',\n",
       " 'a supply or stock held in reserve for future use (especially in emergencies)',\n",
       " 'the funds held by a gambling house or the dealer in some gambling games',\n",
       " 'a slope in the turn of a road or track; the outside is higher than the inside in order to reduce the effects of centrifugal force',\n",
       " 'a container (usually with a slot in the top) for keeping money at home',\n",
       " 'a building in which the business of banking transacted',\n",
       " 'a flight maneuver; aircraft tips laterally about its longitudinal axis (especially in turning)']"
      ]
     },
     "execution_count": 33,
     "metadata": {},
     "output_type": "execute_result"
    }
   ],
   "source": [
    "[x.definition() for x in bank]"
   ]
  },
  {
   "cell_type": "code",
   "execution_count": 34,
   "metadata": {},
   "outputs": [
    {
     "data": {
      "text/plain": [
       "'a financial institution that accepts deposits and channels the money into lending activities'"
      ]
     },
     "execution_count": 34,
     "metadata": {},
     "output_type": "execute_result"
    }
   ],
   "source": [
    "sent = \"The bank can guarantee deposits will eventually cover future tuition costs because it invests in adjustable- rate mortgage securities.\"\n",
    "bank[1].definition()"
   ]
  },
  {
   "cell_type": "code",
   "execution_count": 37,
   "metadata": {},
   "outputs": [
    {
     "name": "stdout",
     "output_type": "stream",
     "text": [
      "Synset('bank.n.05') a supply or stock held in reserve for future use (especially in emergencies)\n"
     ]
    }
   ],
   "source": [
    "from nltk.wsd import lesk\n",
    "from nltk import word_tokenize\n",
    "tokenized = word_tokenize(sent)\n",
    "meanset = lesk(tokenized, 'bank', 'n')\n",
    "print(meanset, meanset.definition())"
   ]
  },
  {
   "cell_type": "code",
   "execution_count": 39,
   "metadata": {},
   "outputs": [
    {
     "data": {
      "text/plain": [
       "{'.',\n",
       " 'The',\n",
       " 'adjustable-',\n",
       " 'bank',\n",
       " 'because',\n",
       " 'can',\n",
       " 'costs',\n",
       " 'cover',\n",
       " 'deposits',\n",
       " 'eventually',\n",
       " 'future',\n",
       " 'guarantee',\n",
       " 'in',\n",
       " 'invests',\n",
       " 'it',\n",
       " 'mortgage',\n",
       " 'rate',\n",
       " 'securities',\n",
       " 'tuition',\n",
       " 'will'}"
      ]
     },
     "execution_count": 39,
     "metadata": {},
     "output_type": "execute_result"
    }
   ],
   "source": [
    "words = set(tokenized)\n",
    "words"
   ]
  },
  {
   "cell_type": "code",
   "execution_count": 40,
   "metadata": {},
   "outputs": [
    {
     "data": {
      "text/plain": [
       "({'future', 'in'}, {'deposits'})"
      ]
     },
     "execution_count": 40,
     "metadata": {},
     "output_type": "execute_result"
    }
   ],
   "source": [
    "first_meaning = word_tokenize(wn.synset('bank.n.05').definition())\n",
    "second_meaning = word_tokenize(wn.synset('bank.n.02').definition())\n",
    "words.intersection(first_meaning), words.intersection(second_meaning)"
   ]
  },
  {
   "cell_type": "code",
   "execution_count": 42,
   "metadata": {},
   "outputs": [
    {
     "name": "stdout",
     "output_type": "stream",
     "text": [
      "a supply or stock held in reserve for future use (especially in emergencies)\n"
     ]
    }
   ],
   "source": [
    "tokenize = word_tokenize\n",
    "s1 = tokenize(\"I went to the bank to deposit some money\")\n",
    "s2 = tokenize(\"She created a big mess of the birthday cake\")\n",
    "s3 = tokenize(\"In the interest of your safety, please wear your seabelt\")\n",
    "s4 = tokenize(\"I drank some ice cold water\")\n"
   ]
  },
  {
   "cell_type": "code",
   "execution_count": 48,
   "metadata": {},
   "outputs": [
    {
     "name": "stdout",
     "output_type": "stream",
     "text": [
      "Synset('savings_bank.n.02') a container (usually with a slot in the top) for keeping money at home\n",
      "Synset('mess.v.02') make a mess of or create disorder in\n",
      "Synset('birthday.n.02') the date on which a person was born\n",
      "Synset('coat.v.03') form a coat over\n",
      "Synset('sake.n.01') a reason for wanting something done\n",
      "Synset('wear.n.03') the act of having on your person as a covering or adornment\n",
      "Synset('methamphetamine.n.01') an amphetamine derivative (trade name Methedrine) used in the form of a crystalline hydrochloride; used as a stimulant to the nervous system and as an appetite suppressant\n"
     ]
    }
   ],
   "source": [
    "print(lesk(s1, 'bank', 'n'), lesk(s1, 'bank').definition())\n",
    "print(lesk(s2, 'mess'), lesk(s2, 'mess').definition())\n",
    "print(lesk(s2, 'birthday'), lesk(s2, 'birthday').definition())\n",
    "print(lesk(s2, 'cake'), lesk(s2, 'cake').definition())\n",
    "print(lesk(s3, 'interest'), lesk(s3, 'interest').definition())\n",
    "print(lesk(s3, 'wear'), lesk(s3, 'wear').definition())\n",
    "print(lesk(s4, 'ice'), lesk(s4, 'ice').definition())"
   ]
  },
  {
   "cell_type": "code",
   "execution_count": 50,
   "metadata": {},
   "outputs": [],
   "source": [
    "from nltk.stem import WordNetLemmatizer as LTize"
   ]
  },
  {
   "cell_type": "code",
   "execution_count": 54,
   "metadata": {},
   "outputs": [
    {
     "data": {
      "text/plain": [
       "('dog', 'walk', 'run', 'running')"
      ]
     },
     "execution_count": 54,
     "metadata": {},
     "output_type": "execute_result"
    }
   ],
   "source": [
    "lematizer = LTize()\n",
    "lematizer.lemmatize('dogs'),\\\n",
    "lematizer.lemmatize('walking', 'v'),\\\n",
    "lematizer.lemmatize('running', 'v'),\\\n",
    "lematizer.lemmatize('running', 'n')"
   ]
  },
  {
   "cell_type": "code",
   "execution_count": 55,
   "metadata": {},
   "outputs": [
    {
     "data": {
      "text/plain": [
       "{'hola'}"
      ]
     },
     "execution_count": 55,
     "metadata": {},
     "output_type": "execute_result"
    }
   ],
   "source": [
    "def common_words(s1, s2):\n",
    "    words1 = set(s1.split())\n",
    "    words2 = set(s2.split())\n",
    "    return words1 & words2\n",
    "common_words('hola como estas', 'hola estoy bien')"
   ]
  },
  {
   "cell_type": "code",
   "execution_count": 56,
   "metadata": {},
   "outputs": [
    {
     "data": {
      "text/plain": [
       "{'estoy', 'hacia'}"
      ]
     },
     "execution_count": 56,
     "metadata": {},
     "output_type": "execute_result"
    }
   ],
   "source": [
    "common_words('estoy corriendo hacia la libertad', 'estoy correr hacia libre')"
   ]
  },
  {
   "cell_type": "code",
   "execution_count": 63,
   "metadata": {},
   "outputs": [],
   "source": [
    "lematize = lematizer.lemmatize\n",
    "def common_words(s1, s2):\n",
    "    words1 = set(lematize(x) for x in s1.split())\n",
    "    words2 = set(lematize(x) for x in s2.split())\n",
    "    return words1 & words2"
   ]
  },
  {
   "cell_type": "code",
   "execution_count": 64,
   "metadata": {},
   "outputs": [
    {
     "name": "stdout",
     "output_type": "stream",
     "text": [
      "{'la', 'estar', 'corriendo', 'libertad', 'hacia'} {'correr', 'libre', 'estoy', 'hacia'}\n"
     ]
    },
    {
     "data": {
      "text/plain": [
       "{'hacia'}"
      ]
     },
     "execution_count": 64,
     "metadata": {},
     "output_type": "execute_result"
    }
   ],
   "source": [
    "common_words('estar corriendo hacia la libertad', 'estoy correr hacia libre')"
   ]
  },
  {
   "cell_type": "code",
   "execution_count": 68,
   "metadata": {},
   "outputs": [
    {
     "data": {
      "text/plain": [
       "('correr', 'running', 'rock')"
      ]
     },
     "execution_count": 68,
     "metadata": {},
     "output_type": "execute_result"
    }
   ],
   "source": [
    "lematize('correr'), lematize('running'), lematize('rocks')"
   ]
  },
  {
   "cell_type": "code",
   "execution_count": 70,
   "metadata": {},
   "outputs": [
    {
     "name": "stdout",
     "output_type": "stream",
     "text": [
      "{'red', 'are', 'tree', 'Many'} {'is', 'red', 'One', 'tree'}\n"
     ]
    },
    {
     "data": {
      "text/plain": [
       "{'red', 'tree'}"
      ]
     },
     "execution_count": 70,
     "metadata": {},
     "output_type": "execute_result"
    }
   ],
   "source": [
    "a = \"Many trees are reds\"\n",
    "b = \"One tree is red\"\n",
    "common_words(a, b)"
   ]
  },
  {
   "cell_type": "code",
   "execution_count": 80,
   "metadata": {},
   "outputs": [],
   "source": [
    "def pos_common(s1, s2):\n",
    "    s1 = ' '.join(lematize(x) for x in s1.split())\n",
    "    s2 = ' '.join(lematize(x) for x in s2.split())\n",
    "    w1 = nltk.pos_tag(word_tokenize(s1))\n",
    "    w2 = nltk.pos_tag(word_tokenize(s2))\n",
    "    return [x[0] for x in w1 if x in w2]"
   ]
  },
  {
   "cell_type": "code",
   "execution_count": 81,
   "metadata": {},
   "outputs": [
    {
     "data": {
      "text/plain": [
       "['for', 'a', 'ride']"
      ]
     },
     "execution_count": 81,
     "metadata": {},
     "output_type": "execute_result"
    }
   ],
   "source": [
    "pos_common('I went for a ride', 'She went for a bicycle ride')\n",
    "pos_common('I go for a ride', 'She went for a bicycle rides')"
   ]
  }
 ],
 "metadata": {
  "kernelspec": {
   "display_name": "Python 3",
   "language": "python",
   "name": "python3"
  },
  "language_info": {
   "codemirror_mode": {
    "name": "ipython",
    "version": 3
   },
   "file_extension": ".py",
   "mimetype": "text/x-python",
   "name": "python",
   "nbconvert_exporter": "python",
   "pygments_lexer": "ipython3",
   "version": "3.6.8"
  }
 },
 "nbformat": 4,
 "nbformat_minor": 2
}
